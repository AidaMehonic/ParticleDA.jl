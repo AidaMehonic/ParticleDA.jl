{
 "cells": [
  {
   "cell_type": "code",
   "execution_count": null,
   "metadata": {},
   "outputs": [],
   "source": [
    "import numpy as np\n",
    "import matplotlib.pyplot as plt\n",
    "import h5py # if you get an error here, you may need to `pip install h5py` first\n",
    "from pint import UnitRegistry # if you get an error here, you may need to `pip install pint` first"
   ]
  },
  {
   "cell_type": "markdown",
   "metadata": {},
   "source": [
    "# Load HDF5 output file"
   ]
  },
  {
   "cell_type": "code",
   "execution_count": null,
   "metadata": {},
   "outputs": [],
   "source": [
    "filename = \"../tdac.h5\"\n",
    "fh = h5py.File(filename,'r')\n",
    "print(\"The following datasets found in file\",filename,\":\",list(fh))\n",
    "if \"data_avg\" in list(fh): print(\"The following time stamps found in data_avg: \", list(fh[\"data_avg\"]))\n",
    "if \"data_var\" in list(fh): print(\"The following time stamps found in data_var: \", list(fh[\"data_var\"]))\n",
    "if \"data_syn\" in list(fh): print(\"The following time stamps found in data_syn: \", list(fh[\"data_syn\"]))"
   ]
  },
  {
   "cell_type": "markdown",
   "metadata": {},
   "source": [
    "# Set these parameters to choose what to plot"
   ]
  },
  {
   "cell_type": "code",
   "execution_count": null,
   "metadata": {},
   "outputs": [],
   "source": [
    "timestamp = 't1' # Edit this value to plot a different time slice\n",
    "field = 'height' # If we add different fields, edit this value to plot them"
   ]
  },
  {
   "cell_type": "markdown",
   "metadata": {},
   "source": [
    "# Collect data from the output file"
   ]
  },
  {
   "cell_type": "code",
   "execution_count": null,
   "metadata": {},
   "outputs": [],
   "source": [
    "ureg = UnitRegistry()\n",
    "\n",
    "field_unit = fh[\"data_syn\"][timestamp][field].attrs[\"Unit\"].decode('UTF-8')\n",
    "x_unit = fh[\"grid\"][\"x\"].attrs[\"Unit\"].decode('UTF-8')\n",
    "y_unit = fh[\"grid\"][\"y\"].attrs[\"Unit\"].decode('UTF-8')\n",
    "\n",
    "nx = fh[\"params\"].attrs[\"nx\"]\n",
    "ny = fh[\"params\"].attrs[\"ny\"]\n",
    "N = nx * ny\n",
    "dims = (nx,ny)\n",
    "x = fh[\"grid\"][\"x\"][:] * ureg(x_unit)\n",
    "y = fh[\"grid\"][\"y\"][:] * ureg(y_unit)\n",
    "x = x.to(ureg.km)\n",
    "y = y.to(ureg.km)\n",
    "\n",
    "true_data = fh[\"data_syn\"][timestamp][field][:]\n",
    "avg_data = fh[\"data_avg\"][timestamp][field][:]\n",
    "var_data = fh[\"data_var\"][timestamp][field][:]\n",
    "z_t = np.reshape(true_data,dims) * ureg(field_unit)\n",
    "z_avg = np.reshape(avg_data,dims) * ureg(field_unit)\n",
    "z_var = np.reshape(var_data,dims) * ureg(field_unit)\n",
    "z_std = np.sqrt(z_var)"
   ]
  },
  {
   "cell_type": "markdown",
   "metadata": {},
   "source": [
    "# Contour plots of surface height"
   ]
  },
  {
   "cell_type": "code",
   "execution_count": null,
   "metadata": {},
   "outputs": [],
   "source": [
    "plt.rcParams[\"figure.figsize\"] = (18,6)\n",
    "\n",
    "fig, ax = plt.subplots(1,3)\n",
    "i1 = ax[0].contourf(x,y,z_t,100)\n",
    "i2 = ax[1].contourf(x,y,z_avg,100)\n",
    "i3 = ax[2].contourf(x,y,z_std,100)\n",
    "\n",
    "images = [i1,i2,i3]\n",
    "\n",
    "ax[0].set_title(f\"True height [{z_t.units:~}]\")\n",
    "ax[1].set_title(f\"Assimilated height [{z_avg.units:~}]\")\n",
    "ax[2].set_title(f\"Assimilated height standard deviation [{z_std.units:~}]\")\n",
    "\n",
    "for a,im in zip(ax,images):\n",
    "    a.set_xlabel(f\"x [{y.units:~}]\")\n",
    "    a.set_ylabel(f\"y [{x.units:~}]\")\n",
    "    plt.colorbar(im,ax=a)"
   ]
  },
  {
   "cell_type": "markdown",
   "metadata": {},
   "source": [
    "# Scatter plot of particle weights"
   ]
  },
  {
   "cell_type": "code",
   "execution_count": null,
   "metadata": {},
   "outputs": [],
   "source": [
    "weights = fh[\"weights\"][timestamp][:]\n",
    "fig, ax = plt.subplots(1,2)\n",
    "\n",
    "ax[0].plot(weights, '*')\n",
    "ax[1].plot(weights, '*')\n",
    "ax[1].set_yscale('log')\n",
    "\n",
    "for a in ax:\n",
    "    a.set_xlabel('Particle ID')\n",
    "    a.set_ylabel('Weight ('+a.get_yscale() + ')')"
   ]
  },
  {
   "cell_type": "markdown",
   "metadata": {},
   "source": [
    "# Time series of Estimated Sample Size"
   ]
  },
  {
   "cell_type": "code",
   "execution_count": null,
   "metadata": {},
   "outputs": [],
   "source": [
    "ess = list()\n",
    "for ts in list(fh[\"weights\"])[1:]:\n",
    "    ess.append(1/sum(fh[\"weights\"][ts][:]**2))\n",
    "fig = plt.figure()\n",
    "plt.plot(ess[1:])\n",
    "plt.xlabel('Time step')\n",
    "plt.ylabel('Estimated Sample Size (1 / sum(weight^2))');"
   ]
  }
 ],
 "metadata": {
  "kernelspec": {
   "display_name": "Python 3",
   "language": "python",
   "name": "python3"
  },
  "language_info": {
   "codemirror_mode": {
    "name": "ipython",
    "version": 3
   },
   "file_extension": ".py",
   "mimetype": "text/x-python",
   "name": "python",
   "nbconvert_exporter": "python",
   "pygments_lexer": "ipython3",
   "version": "3.7.7"
  }
 },
 "nbformat": 4,
 "nbformat_minor": 4
}
