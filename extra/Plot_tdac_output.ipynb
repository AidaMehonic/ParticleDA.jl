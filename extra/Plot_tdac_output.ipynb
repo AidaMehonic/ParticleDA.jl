{
 "cells": [
  {
   "cell_type": "code",
   "execution_count": null,
   "metadata": {},
   "outputs": [],
   "source": [
    "import numpy as np\n",
    "import matplotlib.pyplot as plt\n",
    "import h5py # if you get an error here, you may need to `pip install h5py` first\n",
    "from pint import UnitRegistry # if you get an error here, you may need to `pip install pint` first"
   ]
  },
  {
   "cell_type": "markdown",
   "metadata": {},
   "source": [
    "# Load HDF5 output file"
   ]
  },
  {
   "cell_type": "code",
   "execution_count": null,
   "metadata": {},
   "outputs": [],
   "source": [
    "filename = \"../tdac.h5\"\n",
    "fh = h5py.File(filename,'r')\n",
    "print(\"The following datasets found in file\",filename,\":\",list(fh))\n",
    "if \"data_da\"  in list(fh): print(\"The following time stamps found in data_da: \", list(fh[\"data_da\"]))\n",
    "if \"data_syn\" in list(fh): print(\"The following time stamps found in data_syn:\", list(fh[\"data_da\"]))"
   ]
  },
  {
   "cell_type": "markdown",
   "metadata": {},
   "source": [
    "# Set these parameters to choose what to plot"
   ]
  },
  {
   "cell_type": "code",
   "execution_count": null,
   "metadata": {},
   "outputs": [],
   "source": [
    "timestamp = 't4' # Edit this value to plot a different time slice\n",
    "field = 'height' # If we add different fields, edit this value to plot them"
   ]
  },
  {
   "cell_type": "markdown",
   "metadata": {},
   "source": [
    "# Collect data from the output file"
   ]
  },
  {
   "cell_type": "code",
   "execution_count": null,
   "metadata": {},
   "outputs": [],
   "source": [
    "plt.rcParams[\"figure.figsize\"] = (16,8)\n",
    "ureg = UnitRegistry()\n",
    "\n",
    "field_unit = fh[\"data_syn\"][timestamp][field].attrs[\"Unit\"].decode('UTF-8')\n",
    "x_unit = fh[\"grid\"][\"x\"].attrs[\"Unit\"].decode('UTF-8')\n",
    "y_unit = fh[\"grid\"][\"y\"].attrs[\"Unit\"].decode('UTF-8')\n",
    "\n",
    "nx = fh[\"grid\"].attrs[\"nx\"]\n",
    "ny = fh[\"grid\"].attrs[\"ny\"]\n",
    "N = nx * ny\n",
    "dims = (nx,ny)\n",
    "x = fh[\"grid\"][\"x\"][:] * ureg(x_unit)\n",
    "y = fh[\"grid\"][\"y\"][:] * ureg(y_unit)\n",
    "x = x.to(ureg.km)\n",
    "y = y.to(ureg.km)\n",
    "\n",
    "true_data = fh[\"data_syn\"][timestamp][field][:]\n",
    "da_data = fh[\"data_da\"][timestamp][field][:]\n",
    "z_t = np.reshape(true_data,dims) * ureg(field_unit)\n",
    "z_d = np.reshape(da_data,dims) * ureg(field_unit)"
   ]
  },
  {
   "cell_type": "markdown",
   "metadata": {},
   "source": [
    "# Plot as a filled contour plots"
   ]
  },
  {
   "cell_type": "code",
   "execution_count": null,
   "metadata": {},
   "outputs": [],
   "source": [
    "fig = plt.figure()\n",
    "fig, ax = plt.subplots(1,2)\n",
    "ax[0].contourf(x,y,z_t,100)\n",
    "ax[1].contourf(x,y,z_d,100)\n",
    "\n",
    "ax[0].set_title(f\"True height [{z_t.units:~}]\")\n",
    "ax[1].set_title(f\"Assimilated height [{z_d.units:~}]\")\n",
    "\n",
    "for a in ax:\n",
    "    a.set_xlabel(f\"x [{y.units:~}]\")\n",
    "    a.set_ylabel(f\"y [{x.units:~}]\")"
   ]
  }
 ],
 "metadata": {
  "kernelspec": {
   "display_name": "Python 3",
   "language": "python",
   "name": "python3"
  },
  "language_info": {
   "codemirror_mode": {
    "name": "ipython",
    "version": 3
   },
   "file_extension": ".py",
   "mimetype": "text/x-python",
   "name": "python",
   "nbconvert_exporter": "python",
   "pygments_lexer": "ipython3",
   "version": "3.7.6"
  }
 },
 "nbformat": 4,
 "nbformat_minor": 4
}
